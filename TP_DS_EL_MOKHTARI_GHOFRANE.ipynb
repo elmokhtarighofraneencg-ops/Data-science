{
  "nbformat": 4,
  "nbformat_minor": 0,
  "metadata": {
    "colab": {
      "provenance": []
    },
    "kernelspec": {
      "name": "python3",
      "display_name": "Python 3"
    },
    "language_info": {
      "name": "python"
    }
  },
  "cells": [
    {
      "cell_type": "code",
      "source": [
        "import pandas as pd\n",
        "import numpy as np\n",
        "import matplotlib.pyplot as plt\n",
        "import seaborn as sns\n",
        "\n",
        "# Charger un dataset en ligne (exemple : ventes d'une entreprise)\n",
        "url = \"https://raw.githubusercontent.com/datasets/gdp/master/data/gdp.csv\"\n",
        "df = pd.read_csv(url)\n",
        "\n",
        "# Afficher les premières lignes\n",
        "print(df.head())\n",
        "\n",
        "# Informations sur le dataset\n",
        "print(df.info())\n",
        "\n",
        "# Statistiques descriptives\n",
        "print(df.describe())"
      ],
      "metadata": {
        "colab": {
          "base_uri": "https://localhost:8080/"
        },
        "id": "e5-ouTAhdXtG",
        "outputId": "036a404f-6a10-4f2d-f793-d078474f03c4"
      },
      "execution_count": 1,
      "outputs": [
        {
          "output_type": "stream",
          "name": "stdout",
          "text": [
            "  Country Name Country Code  Year         Value\n",
            "0  Afghanistan          AFG  2000  3.521418e+09\n",
            "1  Afghanistan          AFG  2001  2.813572e+09\n",
            "2  Afghanistan          AFG  2002  3.825701e+09\n",
            "3  Afghanistan          AFG  2003  4.520947e+09\n",
            "4  Afghanistan          AFG  2004  5.224897e+09\n",
            "<class 'pandas.core.frame.DataFrame'>\n",
            "RangeIndex: 13979 entries, 0 to 13978\n",
            "Data columns (total 4 columns):\n",
            " #   Column        Non-Null Count  Dtype  \n",
            "---  ------        --------------  -----  \n",
            " 0   Country Name  13979 non-null  object \n",
            " 1   Country Code  13979 non-null  object \n",
            " 2   Year          13979 non-null  int64  \n",
            " 3   Value         13979 non-null  float64\n",
            "dtypes: float64(1), int64(1), object(2)\n",
            "memory usage: 437.0+ KB\n",
            "None\n",
            "               Year         Value\n",
            "count  13979.000000  1.397900e+04\n",
            "mean    1994.672866  1.207380e+12\n",
            "std       17.731413  5.537517e+12\n",
            "min     1960.000000  1.150263e+04\n",
            "25%     1980.000000  2.233880e+09\n",
            "50%     1996.000000  1.672591e+10\n",
            "75%     2010.000000  2.058542e+11\n",
            "max     2023.000000  1.054350e+14\n"
          ]
        }
      ]
    },
    {
      "cell_type": "code",
      "source": [
        "# Statistiques pour une colonne spécifique\n",
        "colonne = df['Value']  # Adapter selon vos données\n",
        "\n",
        "print(f\"Moyenne: {colonne.mean():.2f}\")\n",
        "print(f\"Médiane: {colonne.median():.2f}\")\n",
        "print(f\"Mode: {colonne.mode()[0]:.2f}\")\n",
        "print(f\"Écart-type: {colonne.std():.2f}\")\n",
        "print(f\"Variance: {colonne.var():.2f}\")\n",
        "print(f\"Min: {colonne.min():.2f}\")\n",
        "print(f\"Max: {colonne.max():.2f}\")\n",
        "\n",
        "# Quartiles\n",
        "print(f\"Q1 (25%): {colonne.quantile(0.25):.2f}\")\n",
        "print(f\"Q2 (50% - Médiane): {colonne.quantile(0.50):.2f}\")\n",
        "print(f\"Q3 (75%): {colonne.quantile(0.75):.2f}\")\n",
        "print(f\"IQR: {colonne.quantile(0.75) - colonne.quantile(0.25):.2f}\")"
      ],
      "metadata": {
        "colab": {
          "base_uri": "https://localhost:8080/"
        },
        "id": "epiF2vVaenHe",
        "outputId": "8ae6ce73-33d8-4ba5-e2f7-cdcb8e81a79e"
      },
      "execution_count": 3,
      "outputs": [
        {
          "output_type": "stream",
          "name": "stdout",
          "text": [
            "Moyenne: 1207379525661.76\n",
            "Médiane: 16725908148.55\n",
            "Mode: 340000000.00\n",
            "Écart-type: 5537517274228.25\n",
            "Variance: 30664097562376314470531072.00\n",
            "Min: 11502.63\n",
            "Max: 105435039507024.09\n",
            "Q1 (25%): 2233880173.42\n",
            "Q2 (50% - Médiane): 16725908148.55\n",
            "Q3 (75%): 205854212632.48\n",
            "IQR: 203620332459.06\n"
          ]
        }
      ]
    }
  ]
}